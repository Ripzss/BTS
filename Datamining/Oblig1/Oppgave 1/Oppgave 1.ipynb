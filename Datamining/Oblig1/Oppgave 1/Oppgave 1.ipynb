{
 "cells": [
  {
   "cell_type": "markdown",
   "id": "fa98e344",
   "metadata": {},
   "source": [
    "# Obligatorisk innlevering 1- oppgave 1"
   ]
  },
  {
   "cell_type": "markdown",
   "id": "5e6fd5da",
   "metadata": {},
   "source": [
    "Denne oppgaven tar for seg et datasett der din oppgave er å forutsi prisen på huset basert på en rekke variabler som beskriver husets fasiliteter, størrelse osv."
   ]
  },
  {
   "metadata": {},
   "cell_type": "code",
   "source": [
    "# Importer resten av pakkene du trenger her:\n",
    "import pandas as pd\n",
    "import numpy as np\n",
    "from sklearn.model_selection import train_test_split\n",
    "import matplotlib.pyplot as plt\n",
    "import seaborn as sns\n",
    "from sklearn.ensemble import RandomForestRegressor\n",
    "from sklearn.metrics import mean_absolute_error, mean_squared_error, accuracy_score\n",
    "from sklearn.model_selection import GridSearchCV, KFold\n"
   ],
   "id": "b7ef4961aa093a5b",
   "outputs": [],
   "execution_count": null
  },
  {
   "metadata": {},
   "cell_type": "code",
   "source": [
    "# I denne oppgaven skal dere bruke følgende datasett:\n",
    "df = pd.read_csv(\"./datasett1.csv\")\n",
    "# Her deler jeg datasettet inn i egenskaper (X) og target (y)\n",
    "X = df.iloc[:,:-1]\n",
    "y = df.iloc[:,-1]\n",
    "# Tilslutt deler jeg inn i et trening- og et testsett (75%/25%)\n",
    "X_train, X_test, y_train, y_test = train_test_split(X,y,test_size=0.25, random_state=0)\n",
    "# PS: Ikke endre denne kodecellen!"
   ],
   "id": "4dae5577fdd2f3ea",
   "outputs": [],
   "execution_count": null
  },
  {
   "metadata": {},
   "cell_type": "markdown",
   "source": [
    "#### Oppgave 1.1)\n",
    "Visualiser $y\\_train$ og $y\\_val$ i et histogram. Kan du, basert på figuren, se hva slags problem vi skal løse (regresjon/klassifisering)?\n",
    "\n",
    "Begrunn svaret"
   ],
   "id": "530ebd74407529a8"
  },
  {
   "metadata": {},
   "cell_type": "code",
   "source": [
    "#TODO: visualiser y_train og y_test i et Histogram\n",
    "\n",
    "#Lager Historgramet\n",
    "fig, ax = plt.subplots(1, 2, figsize=(14, 5))\n",
    "\n",
    "# Histogram for y_train\n",
    "ax[0].hist(y_train, bins=30, color='steelblue', edgecolor='black', alpha=0.7)\n",
    "ax[0].set_xlabel('x', fontsize=12)\n",
    "ax[0].set_ylabel('y', fontsize=12)\n",
    "ax[0].set_title('y_train', fontsize=14, fontweight='bold')\n",
    "ax[0].grid(axis='y', alpha=0.3)\n",
    "\n",
    "# Histogram for y_test\n",
    "ax[1].hist(y_test, bins=30, color='coral', edgecolor='black', alpha=0.7)\n",
    "ax[1].set_xlabel('x', fontsize=12)\n",
    "ax[1].set_ylabel('y', fontsize=12)\n",
    "ax[1].set_title('y_test', fontsize=14, fontweight='bold')\n",
    "ax[1].grid(axis='y', alpha=0.3)\n",
    "\n",
    "plt.tight_layout()\n",
    "plt.show()\n"
   ],
   "id": "b0d5bef7a239554c",
   "outputs": [],
   "execution_count": null
  },
  {
   "metadata": {},
   "cell_type": "markdown",
   "source": [
    "**Svar:**\n",
    "\n",
    "*Når vi ser på fordelingen ifra y_train og y_test ser vi at vi skal løse et regresjonsproblem fordi Prisen i datasettet varier over et stort beløp, Man kunne trod at dette var et Klassifiserings problem på grunn av Semi-fournished,unfurnished og furnished men disse kategoriene er avhengig av en input verdi og er ikke selvstedige. hvis vi skulle løse dette innenfor en Klassifisering problem så kan ikke pris varierer så mye det må være innenfor en kategorisk variabel som lav,middels,høy*"
   ],
   "id": "3f6c9e25d2dc952f"
  },
  {
   "metadata": {},
   "cell_type": "markdown",
   "source": [
    "#### Oppgave 1.2)\n",
    "\n",
    "fullfør funksjonen under slik at den tar inn både egenskapene (input-varaibler) og target, legger disse sammen i samme matrise igjen og visualiser dataene som en korrelasjonsmatrise (poenget er at du skal kunne se hvordan egenskapene korrelerer med target). '\n",
    "\n",
    "* Tips: noen av variablene er kategoriske og kodet som tekst disse må konverteres til numeriske variabler for å inkluderes i korrelasjonsplottet.\n",
    "\n",
    "* Beskriv hvilke egenskaper du ser korrelerer mest med target"
   ],
   "id": "12933a6f1414a96f"
  },
  {
   "metadata": {},
   "cell_type": "code",
   "source": [
    "def korrelasjonsmatrise(X, y):\n",
    "    X_temp = X.copy()\n",
    "    y_temp = y.copy()\n",
    "    X_temp[\"Target\"] = y_temp\n",
    "\n",
    "    # Konverter kategoriske variabler til numeriske\n",
    "    X_num = pd.get_dummies(X_temp)\n",
    "\n",
    "    # Beregn korrelasjonsmatrise\n",
    "    corr = X_num.corr()\n",
    "\n",
    "    # Plot korrelasjonsmatrisen\n",
    "    plt.figure(figsize=(12, 8))\n",
    "    sns.heatmap(corr, annot=True, fmt=\".2f\", cmap=\"coolwarm\", cbar=True)\n",
    "    plt.title(\"Korrelasjonsmatrise mellom features og target (pris)\", fontsize=14)\n",
    "    plt.show()"
   ],
   "id": "d62b9e70f6d73d1",
   "outputs": [],
   "execution_count": null
  },
  {
   "cell_type": "code",
   "id": "a0689157",
   "metadata": {},
   "source": [
    "korrelasjonsmatrise(X_train,y_train)"
   ],
   "outputs": [],
   "execution_count": null
  },
  {
   "cell_type": "markdown",
   "id": "5ec6f0ca",
   "metadata": {},
   "source": [
    "**Svar:**\n",
    "\n",
    "Basert på Korrelasjonsmatrisen ser jeg at følgende egenskaper korrelerer mest med target som er Pris, Pris forandrer seg fra furnished -> unfurnished som indikerer at prisen på noe går opp og ned i pris vis det er Furnished,semi-furnished og unfurnished\"\n",
    "\n"
   ]
  },
  {
   "cell_type": "markdown",
   "id": "ecb5c5b4",
   "metadata": {},
   "source": [
    "#### Oppgave 1.3) \n",
    "Velg en modellarkitektur (gjerne fra Scikit-Learn) og gjør et strukturert hyperparametersøk. \n",
    "* Gjør et søk på minst 3 paramtere og minst 2 verdier pr parameter\n",
    "* Bruk 3-folds kryssvalidering for hver parameterkombinasjon\n",
    "* Velg en metrikk som passer for målet \n",
    "* Skriv ut den parameterkobinasjonen som ga den beste skåren, samt skåren. Kommenter resultatet"
   ]
  },
  {
   "cell_type": "code",
   "id": "6b412b53",
   "metadata": {},
   "source": [
    "categorical_cols = X.select_dtypes(include=['object']).columns\n",
    "X_encoded = pd.get_dummies(X, columns=categorical_cols, drop_first=True)\n",
    "\n",
    "modell = RandomForestRegressor(random_state=42)\n",
    "\n",
    "param_grid = {\n",
    "    \"n_estimators\": [100, 200, 300],\n",
    "    \"max_depth\": [5, 10, 15],\n",
    "    \"min_samples_split\": [2, 5, 10]\n",
    "}\n",
    "\n",
    "n_splits = min(3, len(X_encoded))\n",
    "cv = KFold(n_splits=n_splits, shuffle=True, random_state=42)\n",
    "\n",
    "grid_search = GridSearchCV(\n",
    "    estimator=modell,\n",
    "    param_grid=param_grid,\n",
    "    cv=cv,\n",
    "    scoring=\"r2\",   #Regresjon metrikk\n",
    "    verbose=1\n",
    ")\n",
    "\n",
    "grid_search.fit(X_encoded, y)\n",
    "\n",
    "#Print\n",
    "print(\"Beste parametre:\", grid_search.best_params_)\n",
    "print(\"Beste kryss-valideringsskår:\", grid_search.best_score_)\n"
   ],
   "outputs": [],
   "execution_count": null
  },
  {
   "cell_type": "markdown",
   "id": "09492212",
   "metadata": {},
   "source": [
    "**Svar:**\n",
    "\n",
    "*< Random forest fungerer fint for dette datasettet men det er noe rom for forbedringer, eks R^2 = 1 er perfekt prediksjon vi fikk R^2 = 0.63 som betyr at modellen forklarer ca 63% av variasjonen i prisen på tvers av 3-folds kryssvalidering men det er forsatt en 36% variasjon som ikke forklares. Kansje vis det ble bruke 5-folds kryssvalidering så ville validerinsskår vært høyere>*"
   ]
  },
  {
   "cell_type": "markdown",
   "id": "367c1755",
   "metadata": {},
   "source": [
    "#### Oppgave 1.4) \n",
    "Bruk hyperparameterkombinasjonen fra oppgave 1.3 og kryssvalider den modellen på nytt med K >= 5 \n",
    "* Logg \"mean absolute error\" og \"mean squared error\" for hver kryssvalideringsrunde\n",
    "* Oppgi gjennomsnitt og standardavvik for \"mean absolute error\" og \"mean squared error\" etter kryssvalideringen og kommenter resultatet\n",
    "* Hvor stor er den gjennomsnittlige feilen på prediksjonen sammenlignet med gjennomsnittlig faktisk pris i treningsdataene? "
   ]
  },
  {
   "cell_type": "code",
   "id": "24f2a03a",
   "metadata": {},
   "source": [
    "#TODO: Utfør kryssvalidering med de optimale parameterene fra forrige oppgave og logg mean_absolute_error og mean_squared_error\n",
    "\n",
    "categorical_cols = X.select_dtypes(include=['object']).columns\n",
    "X_encoded = pd.get_dummies(X, columns=categorical_cols, drop_first=True)\n",
    "\n",
    "best_params = grid_search.best_params_\n",
    "\n",
    "n_splits = min(5, len(X_encoded))\n",
    "cv = KFold(n_splits=n_splits, shuffle=True, random_state=42)\n",
    "\n",
    "mae_scores = []\n",
    "mse_scores = []\n",
    "\n",
    "for fold, (train_idx, val_idx) in enumerate(cv.split(X_encoded, y), 1):\n",
    "    X_train_cv, X_val_cv = X_encoded.iloc[train_idx], X_encoded.iloc[val_idx]\n",
    "    y_train_cv, y_val_cv = y.iloc[train_idx], y.iloc[val_idx]\n",
    "\n",
    "    model = RandomForestRegressor(\n",
    "        n_estimators=best_params['n_estimators'],\n",
    "        max_depth=best_params['max_depth'],\n",
    "        min_samples_split=best_params['min_samples_split'],\n",
    "        random_state=42\n",
    "    )\n",
    "    model.fit(X_train_cv, y_train_cv)\n",
    "    y_pred = model.predict(X_val_cv)\n",
    "\n",
    "    mae = mean_absolute_error(y_val_cv, y_pred)\n",
    "    mse = mean_squared_error(y_val_cv, y_pred)\n",
    "\n",
    "    mae_scores.append(mae)\n",
    "    mse_scores.append(mse)\n",
    "\n",
    "    print(f\"Fold {fold}: MAE={mae:.4f}, MSE={mse:.4f}\")\n"
   ],
   "outputs": [],
   "execution_count": null
  },
  {
   "cell_type": "code",
   "id": "6b647927",
   "metadata": {},
   "source": [
    "#TODO: Beregn gjennomsnitt og standard avvik for mean_absolute_error og mean_squared_error og beregn hvor stor den \n",
    "# gjennomsnittlige feilen er i forhold til den gjennomsnittlige prisen for markedskampanjen (target) i prosent\n",
    "\n",
    "n_splits = min(5, len(X_encoded))\n",
    "cv = KFold(n_splits=n_splits, shuffle=True, random_state=42)\n",
    "\n",
    "mae_scores = []\n",
    "mse_scores = []\n",
    "\n",
    "for train_idx, val_idx in cv.split(X_encoded, y):\n",
    "    X_train_cv, X_val_cv = X_encoded.iloc[train_idx], X_encoded.iloc[val_idx]\n",
    "    y_train_cv, y_val_cv = y.iloc[train_idx], y.iloc[val_idx]\n",
    "\n",
    "    model = RandomForestRegressor(\n",
    "        n_estimators=grid_search.best_params_['n_estimators'],\n",
    "        max_depth=grid_search.best_params_['max_depth'],\n",
    "        min_samples_split=grid_search.best_params_['min_samples_split'],\n",
    "        random_state=42\n",
    "    )\n",
    "    model.fit(X_train_cv, y_train_cv)\n",
    "    y_pred = model.predict(X_val_cv)\n",
    "\n",
    "    mae_scores.append(mean_absolute_error(y_val_cv, y_pred))\n",
    "    mse_scores.append(mean_squared_error(y_val_cv, y_pred))\n",
    "\n",
    "# Beregn gjennomsnitt og standardavvik\n",
    "mean_mae = np.mean(mae_scores)\n",
    "std_mae = np.std(mae_scores)\n",
    "mean_mse = np.mean(mse_scores)\n",
    "std_mse = np.std(mse_scores)\n",
    "\n",
    "# Beregn MAE som prosent av gjennomsnittlig pris\n",
    "mean_price = y.mean()\n",
    "mae_percent = (mean_mae / mean_price) * 100\n",
    "\n",
    "print(f\"Gjennomsnittlig MAE: {mean_mae:.2f}, Standardavvik MAE: {std_mae:.2f}\")\n",
    "print(f\"Gjennomsnittlig MSE: {mean_mse:.2f}, Standardavvik MSE: {std_mse:.2f}\")\n",
    "print(f\"Gjennomsnittlig MAE i prosent av gjennomsnittlig pris: {mae_percent:.2f}%\")\n"
   ],
   "outputs": [],
   "execution_count": null
  },
  {
   "cell_type": "markdown",
   "id": "bf266bf7",
   "metadata": {},
   "source": [
    "**Svar:**\n",
    "*<Vår Gjennomsnittlige MAE er på 800 823 kroner kort sagt betyr det at prediksjonene avviker med omtrent 800 000 kroner, Standardavvik MAE 137 085 kroner viser at feilen varierer mellom foldene men ikke for mye. MAE i % predikerer med en feil som tilsvarer 16,8% av den gjennomsnittlige prisen. >*"
   ]
  },
  {
   "cell_type": "markdown",
   "id": "75996953",
   "metadata": {},
   "source": [
    "#### Oppgave 1.5) \n",
    "Tren modellen en siste gang på alle treningsdataene og gjør prediksjon på testdataene (bruk de optimale parametrene fra oppgave 1.3)\n",
    "* Hvor stor er den gjennomsnittlige feilen på prediksjonen sammenlignet med gjennomsnittlig faktisk pris i testdataene? "
   ]
  },
  {
   "cell_type": "code",
   "id": "89439435",
   "metadata": {},
   "source": [
    "# Tren modellen på hele datasettet med de optimale hyperparametrene\n",
    "final_model = RandomForestRegressor(\n",
    "    n_estimators=grid_search.best_params_['n_estimators'],\n",
    "    max_depth=grid_search.best_params_['max_depth'],\n",
    "    min_samples_split=grid_search.best_params_['min_samples_split'],\n",
    "    random_state=42\n",
    ")\n",
    "\n",
    "final_model.fit(X_encoded, y)\n",
    "\n",
    "# Gjør prediksjon på hele datasettet\n",
    "y_pred_all = final_model.predict(X_encoded)\n",
    "\n",
    "# Beregn MAE og MSE\n",
    "final_mae = mean_absolute_error(y, y_pred_all)\n",
    "final_mse = mean_squared_error(y, y_pred_all)\n",
    "\n",
    "# Beregn MAE som prosent av gjennomsnittlig pris\n",
    "mean_price_all = y.mean()\n",
    "final_mae_percent = (final_mae / mean_price_all) * 100\n",
    "\n",
    "print(f\"MAE på hele datasettet: {final_mae:.2f}\")\n",
    "print(f\"MSE på hele datasettet: {final_mse:.2f}\")\n",
    "print(f\"MAE i prosent av gjennomsnittlig pris: {final_mae_percent:.2f}%\")\n"
   ],
   "outputs": [],
   "execution_count": null
  },
  {
   "cell_type": "markdown",
   "id": "94c555dd",
   "metadata": {},
   "source": [
    "**Svar:**\n",
    "\n",
    "*< Her er MAE på 433 773 mens i oppgave 1.4 så var det 800 823 ca 46% forskjell mellom de to, men i MAE i % av gjennomsnittlig pris så fikk vi i 1.5 9.1% og i 1.4 fikk vi 16,8% en forskjell på 7.7% som betyr at resultatet i 1.5 er mer nøyaktig en det vi fikk i 1.4>*"
   ]
  }
 ],
 "metadata": {
  "kernelspec": {
   "display_name": "Python 3 (ipykernel)",
   "language": "python",
   "name": "python3"
  },
  "language_info": {
   "codemirror_mode": {
    "name": "ipython",
    "version": 3
   },
   "file_extension": ".py",
   "mimetype": "text/x-python",
   "name": "python",
   "nbconvert_exporter": "python",
   "pygments_lexer": "ipython3",
   "version": "3.8.5"
  }
 },
 "nbformat": 4,
 "nbformat_minor": 5
}
