{
 "cells": [
  {
   "cell_type": "markdown",
   "id": "fa98e344",
   "metadata": {},
   "source": [
    "# Obligatorisk innlevering 1- oppgave 1"
   ]
  },
  {
   "cell_type": "markdown",
   "id": "5e6fd5da",
   "metadata": {},
   "source": [
    "Denne oppgaven tar for seg et datasett der din oppgave er å forutsi prisen på huset basert på en rekke variabler som beskriver husets fasiliteter, størrelse osv."
   ]
  },
  {
   "metadata": {},
   "cell_type": "code",
   "outputs": [],
   "execution_count": null,
   "source": [
    "# Importer resten av pakkene du trenger her:\n",
    "import pandas as pd\n",
    "from sklearn.model_selection import train_test_split\n",
    "import matplotlib.pyplot as plt"
   ],
   "id": "b7ef4961aa093a5b"
  },
  {
   "metadata": {},
   "cell_type": "code",
   "outputs": [],
   "execution_count": null,
   "source": [
    "# I denne oppgaven skal dere bruke følgende datasett:\n",
    "df = pd.read_csv(\"./datasett1.csv\")\n",
    "# Her deler jeg datasettet inn i egenskaper (X) og target (y)\n",
    "X = df.iloc[:,:-1]\n",
    "y = df.iloc[:,-1]\n",
    "# Tilslutt deler jeg inn i et trening- og et testsett (75%/25%)\n",
    "X_train, X_test, y_train, y_test = train_test_split(X,y,test_size=0.25, random_state=0)\n",
    "# PS: Ikke endre denne kodecellen!"
   ],
   "id": "4dae5577fdd2f3ea"
  },
  {
   "metadata": {},
   "cell_type": "markdown",
   "source": [
    "#### Oppgave 1.1)\n",
    "Visualiser $y\\_train$ og $y\\_val$ i et histogram. Kan du, basert på figuren, se hva slags problem vi skal løse (regresjon/klassifisering)?\n",
    "\n",
    "Begrunn svaret"
   ],
   "id": "530ebd74407529a8"
  },
  {
   "metadata": {},
   "cell_type": "code",
   "outputs": [],
   "execution_count": null,
   "source": [
    "#TODO: visualiser y_train og y_test i et Histogram\n",
    "\n",
    "#Lager Historgramet\n",
    "fig, ax = plt.subplots(1, 2, figsize=(14, 5))\n",
    "\n",
    "# Histogram for y_train\n",
    "ax[0].hist(y_train, bins=30, color='steelblue', edgecolor='black', alpha=0.7)\n",
    "ax[0].set_xlabel('x', fontsize=12)\n",
    "ax[0].set_ylabel('y', fontsize=12)\n",
    "ax[0].set_title('y_train', fontsize=14, fontweight='bold')\n",
    "ax[0].grid(axis='y', alpha=0.3)\n",
    "\n",
    "# Histogram for y_test\n",
    "ax[1].hist(y_test, bins=30, color='coral', edgecolor='black', alpha=0.7)\n",
    "ax[1].set_xlabel('x', fontsize=12)\n",
    "ax[1].set_ylabel('y', fontsize=12)\n",
    "ax[1].set_title('y_test', fontsize=14, fontweight='bold')\n",
    "ax[1].grid(axis='y', alpha=0.3)\n",
    "\n",
    "plt.tight_layout()\n",
    "plt.show()\n"
   ],
   "id": "b0d5bef7a239554c"
  },
  {
   "metadata": {},
   "cell_type": "markdown",
   "source": [
    "**Svar:**\n",
    "\n",
    "*Når vi ser på fordelingen ifra y_train og y_test ser vi at vi skal løse et regresjonsproblem fordi Prisen i datasettet varier over et stort beløp, Man kunne trod at dette var et Klassifiserings problem på grunn av Semi-fournished,unfurnished og furnished men disse kategoriene er avhengig av en input verdi og er ikke selvstedige. hvis vi skulle løse dette innenfor en Klassifisering problem så kan ikke pris varierer så mye det må være innenfor en kategorisk variabel som lav,middels,høy*"
   ],
   "id": "3f6c9e25d2dc952f"
  },
  {
   "metadata": {},
   "cell_type": "markdown",
   "source": [
    "#### Oppgave 1.2)\n",
    "\n",
    "fullfør funksjonen under slik at den tar inn både egenskapene (input-varaibler) og target, legger disse sammen i samme matrise igjen og visualiser dataene som en korrelasjonsmatrise (poenget er at du skal kunne se hvordan egenskapene korrelerer med target). '\n",
    "\n",
    "* Tips: noen av variablene er kategoriske og kodet som tekst disse må konverteres til numeriske variabler for å inkluderes i korrelasjonsplottet.\n",
    "\n",
    "* Beskriv hvilke egenskaper du ser korrelerer mest med target"
   ],
   "id": "12933a6f1414a96f"
  },
  {
   "metadata": {},
   "cell_type": "code",
   "outputs": [],
   "execution_count": null,
   "source": [
    "def korrelasjonsmatrise(X,y):\n",
    "    X_temp = X.copy()\n",
    "    y_temp = y.copy()\n",
    "    X_temp[\"Target\"] = y_temp\n",
    "    #TODO: Fullfør koden\n",
    "    ..."
   ],
   "id": "d62b9e70f6d73d1"
  },
  {
   "cell_type": "code",
   "id": "a0689157",
   "metadata": {
    "ExecuteTime": {
     "end_time": "2025-10-03T18:16:42.716484Z",
     "start_time": "2025-10-03T18:16:42.636903Z"
    }
   },
   "source": [
    "korrelasjonsmatrise(X_train,y_train)"
   ],
   "outputs": [
    {
     "ename": "ValueError",
     "evalue": "could not convert string to float: 'semi-furnished'",
     "output_type": "error",
     "traceback": [
      "\u001B[31m---------------------------------------------------------------------------\u001B[39m",
      "\u001B[31mValueError\u001B[39m                                Traceback (most recent call last)",
      "\u001B[36mCell\u001B[39m\u001B[36m \u001B[39m\u001B[32mIn[31]\u001B[39m\u001B[32m, line 1\u001B[39m\n\u001B[32m----> \u001B[39m\u001B[32m1\u001B[39m \u001B[43mkorrelasjonsmatrise\u001B[49m\u001B[43m(\u001B[49m\u001B[43mX_train\u001B[49m\u001B[43m,\u001B[49m\u001B[43my_train\u001B[49m\u001B[43m)\u001B[49m\n",
      "\u001B[36mCell\u001B[39m\u001B[36m \u001B[39m\u001B[32mIn[29]\u001B[39m\u001B[32m, line 21\u001B[39m, in \u001B[36mkorrelasjonsmatrise\u001B[39m\u001B[34m(X, y)\u001B[39m\n\u001B[32m     18\u001B[39m     X_temp[\u001B[33m'\u001B[39m\u001B[33mfurnishingstatus\u001B[39m\u001B[33m'\u001B[39m] = X_temp[\u001B[33m'\u001B[39m\u001B[33mfurnishingstatus\u001B[39m\u001B[33m'\u001B[39m].map(furnishing_map)\n\u001B[32m     20\u001B[39m \u001B[38;5;66;03m# Beregn korrelasjonsmatrisen\u001B[39;00m\n\u001B[32m---> \u001B[39m\u001B[32m21\u001B[39m correlation_matrix = \u001B[43mX_temp\u001B[49m\u001B[43m.\u001B[49m\u001B[43mcorr\u001B[49m\u001B[43m(\u001B[49m\u001B[43m)\u001B[49m\n\u001B[32m     23\u001B[39m \u001B[38;5;66;03m# Visualiser korrelasjonsmatrisen\u001B[39;00m\n\u001B[32m     24\u001B[39m plt.figure(figsize=(\u001B[32m14\u001B[39m, \u001B[32m12\u001B[39m))\n",
      "\u001B[36mFile \u001B[39m\u001B[32m~\\AppData\\Local\\Programs\\Python\\Python313\\Lib\\site-packages\\pandas\\core\\frame.py:11056\u001B[39m, in \u001B[36mDataFrame.corr\u001B[39m\u001B[34m(self, method, min_periods, numeric_only)\u001B[39m\n\u001B[32m  11054\u001B[39m cols = data.columns\n\u001B[32m  11055\u001B[39m idx = cols.copy()\n\u001B[32m> \u001B[39m\u001B[32m11056\u001B[39m mat = \u001B[43mdata\u001B[49m\u001B[43m.\u001B[49m\u001B[43mto_numpy\u001B[49m\u001B[43m(\u001B[49m\u001B[43mdtype\u001B[49m\u001B[43m=\u001B[49m\u001B[38;5;28;43mfloat\u001B[39;49m\u001B[43m,\u001B[49m\u001B[43m \u001B[49m\u001B[43mna_value\u001B[49m\u001B[43m=\u001B[49m\u001B[43mnp\u001B[49m\u001B[43m.\u001B[49m\u001B[43mnan\u001B[49m\u001B[43m,\u001B[49m\u001B[43m \u001B[49m\u001B[43mcopy\u001B[49m\u001B[43m=\u001B[49m\u001B[38;5;28;43;01mFalse\u001B[39;49;00m\u001B[43m)\u001B[49m\n\u001B[32m  11058\u001B[39m \u001B[38;5;28;01mif\u001B[39;00m method == \u001B[33m\"\u001B[39m\u001B[33mpearson\u001B[39m\u001B[33m\"\u001B[39m:\n\u001B[32m  11059\u001B[39m     correl = libalgos.nancorr(mat, minp=min_periods)\n",
      "\u001B[36mFile \u001B[39m\u001B[32m~\\AppData\\Local\\Programs\\Python\\Python313\\Lib\\site-packages\\pandas\\core\\frame.py:1998\u001B[39m, in \u001B[36mDataFrame.to_numpy\u001B[39m\u001B[34m(self, dtype, copy, na_value)\u001B[39m\n\u001B[32m   1996\u001B[39m \u001B[38;5;28;01mif\u001B[39;00m dtype \u001B[38;5;129;01mis\u001B[39;00m \u001B[38;5;129;01mnot\u001B[39;00m \u001B[38;5;28;01mNone\u001B[39;00m:\n\u001B[32m   1997\u001B[39m     dtype = np.dtype(dtype)\n\u001B[32m-> \u001B[39m\u001B[32m1998\u001B[39m result = \u001B[38;5;28;43mself\u001B[39;49m\u001B[43m.\u001B[49m\u001B[43m_mgr\u001B[49m\u001B[43m.\u001B[49m\u001B[43mas_array\u001B[49m\u001B[43m(\u001B[49m\u001B[43mdtype\u001B[49m\u001B[43m=\u001B[49m\u001B[43mdtype\u001B[49m\u001B[43m,\u001B[49m\u001B[43m \u001B[49m\u001B[43mcopy\u001B[49m\u001B[43m=\u001B[49m\u001B[43mcopy\u001B[49m\u001B[43m,\u001B[49m\u001B[43m \u001B[49m\u001B[43mna_value\u001B[49m\u001B[43m=\u001B[49m\u001B[43mna_value\u001B[49m\u001B[43m)\u001B[49m\n\u001B[32m   1999\u001B[39m \u001B[38;5;28;01mif\u001B[39;00m result.dtype \u001B[38;5;129;01mis\u001B[39;00m \u001B[38;5;129;01mnot\u001B[39;00m dtype:\n\u001B[32m   2000\u001B[39m     result = np.asarray(result, dtype=dtype)\n",
      "\u001B[36mFile \u001B[39m\u001B[32m~\\AppData\\Local\\Programs\\Python\\Python313\\Lib\\site-packages\\pandas\\core\\internals\\managers.py:1694\u001B[39m, in \u001B[36mBlockManager.as_array\u001B[39m\u001B[34m(self, dtype, copy, na_value)\u001B[39m\n\u001B[32m   1692\u001B[39m         arr.flags.writeable = \u001B[38;5;28;01mFalse\u001B[39;00m\n\u001B[32m   1693\u001B[39m \u001B[38;5;28;01melse\u001B[39;00m:\n\u001B[32m-> \u001B[39m\u001B[32m1694\u001B[39m     arr = \u001B[38;5;28;43mself\u001B[39;49m\u001B[43m.\u001B[49m\u001B[43m_interleave\u001B[49m\u001B[43m(\u001B[49m\u001B[43mdtype\u001B[49m\u001B[43m=\u001B[49m\u001B[43mdtype\u001B[49m\u001B[43m,\u001B[49m\u001B[43m \u001B[49m\u001B[43mna_value\u001B[49m\u001B[43m=\u001B[49m\u001B[43mna_value\u001B[49m\u001B[43m)\u001B[49m\n\u001B[32m   1695\u001B[39m     \u001B[38;5;66;03m# The underlying data was copied within _interleave, so no need\u001B[39;00m\n\u001B[32m   1696\u001B[39m     \u001B[38;5;66;03m# to further copy if copy=True or setting na_value\u001B[39;00m\n\u001B[32m   1698\u001B[39m \u001B[38;5;28;01mif\u001B[39;00m na_value \u001B[38;5;129;01mis\u001B[39;00m lib.no_default:\n",
      "\u001B[36mFile \u001B[39m\u001B[32m~\\AppData\\Local\\Programs\\Python\\Python313\\Lib\\site-packages\\pandas\\core\\internals\\managers.py:1753\u001B[39m, in \u001B[36mBlockManager._interleave\u001B[39m\u001B[34m(self, dtype, na_value)\u001B[39m\n\u001B[32m   1751\u001B[39m     \u001B[38;5;28;01melse\u001B[39;00m:\n\u001B[32m   1752\u001B[39m         arr = blk.get_values(dtype)\n\u001B[32m-> \u001B[39m\u001B[32m1753\u001B[39m     \u001B[43mresult\u001B[49m\u001B[43m[\u001B[49m\u001B[43mrl\u001B[49m\u001B[43m.\u001B[49m\u001B[43mindexer\u001B[49m\u001B[43m]\u001B[49m = arr\n\u001B[32m   1754\u001B[39m     itemmask[rl.indexer] = \u001B[32m1\u001B[39m\n\u001B[32m   1756\u001B[39m \u001B[38;5;28;01mif\u001B[39;00m \u001B[38;5;129;01mnot\u001B[39;00m itemmask.all():\n",
      "\u001B[31mValueError\u001B[39m: could not convert string to float: 'semi-furnished'"
     ]
    }
   ],
   "execution_count": 31
  },
  {
   "cell_type": "markdown",
   "id": "5ec6f0ca",
   "metadata": {},
   "source": [
    "**Svar:**\n",
    "\n",
    "*< ditt tekstsvar her >*"
   ]
  },
  {
   "cell_type": "markdown",
   "id": "ecb5c5b4",
   "metadata": {},
   "source": [
    "#### Oppgave 1.3) \n",
    "Velg en modellarkitektur (gjerne fra Scikit-Learn) og gjør et strukturert hyperparametersøk. \n",
    "* Gjør et søk på minst 3 paramtere og minst 2 verdier pr parameter\n",
    "* Bruk 3-folds kryssvalidering for hver parameterkombinasjon\n",
    "* Velg en metrikk som passer for målet \n",
    "* Skriv ut den parameterkobinasjonen som ga den beste skåren, samt skåren. Kommenter resultatet"
   ]
  },
  {
   "cell_type": "code",
   "execution_count": 6,
   "id": "6b412b53",
   "metadata": {},
   "outputs": [],
   "source": [
    "#TODO: Utfør hyperparametersøk for en modell"
   ]
  },
  {
   "cell_type": "markdown",
   "id": "09492212",
   "metadata": {},
   "source": [
    "**Svar:**\n",
    "\n",
    "*< ditt tekstsvar her >*"
   ]
  },
  {
   "cell_type": "markdown",
   "id": "367c1755",
   "metadata": {},
   "source": [
    "#### Oppgave 1.4) \n",
    "Bruk hyperparameterkombinasjonen fra oppgave 1.3 og kryssvalider den modellen på nytt med K >= 5 \n",
    "* Logg \"mean absolute error\" og \"mean squared error\" for hver kryssvalideringsrunde\n",
    "* Oppgi gjennomsnitt og standardavvik for \"mean absolute error\" og \"mean squared error\" etter kryssvalideringen og kommenter resultatet\n",
    "* Hvor stor er den gjennomsnittlige feilen på prediksjonen sammenlignet med gjennomsnittlig faktisk pris i treningsdataene? "
   ]
  },
  {
   "cell_type": "code",
   "execution_count": 7,
   "id": "24f2a03a",
   "metadata": {},
   "outputs": [],
   "source": [
    "#TODO: Utfør kryssvalidering med de optimale parameterene fra forrige oppgave og logg mean_absolute_error og mean_squared_error"
   ]
  },
  {
   "cell_type": "code",
   "execution_count": 8,
   "id": "6b647927",
   "metadata": {},
   "outputs": [],
   "source": [
    "#TODO: Beregn gjennomsnitt og standard avvik for mean_absolute_error og mean_squared_error og beregn hvor stor den \n",
    "# gjennomsnittlige feilen er i forhold til den gjennomsnittlige prisen for markedskampanjen (target) i prosent"
   ]
  },
  {
   "cell_type": "markdown",
   "id": "bf266bf7",
   "metadata": {},
   "source": [
    "**Svar:**\n",
    "\n",
    "*< ditt tekstsvar her >*"
   ]
  },
  {
   "cell_type": "markdown",
   "id": "75996953",
   "metadata": {},
   "source": [
    "#### Oppgave 1.5) \n",
    "Tren modellen en siste gang på alle treningsdataene og gjør prediksjon på testdataene (bruk de optimale parametrene fra oppgave 1.3)\n",
    "* Hvor stor er den gjennomsnittlige feilen på prediksjonen sammenlignet med gjennomsnittlig faktisk pris i testdataene? "
   ]
  },
  {
   "cell_type": "code",
   "execution_count": 9,
   "id": "89439435",
   "metadata": {},
   "outputs": [],
   "source": [
    "#TODO: Tren modellen på alle treningsdata og utfør prediksjon på testdataene"
   ]
  },
  {
   "cell_type": "markdown",
   "id": "94c555dd",
   "metadata": {},
   "source": [
    "**Svar:**\n",
    "\n",
    "*< ditt tekstsvar her >*"
   ]
  }
 ],
 "metadata": {
  "kernelspec": {
   "display_name": "Python 3 (ipykernel)",
   "language": "python",
   "name": "python3"
  },
  "language_info": {
   "codemirror_mode": {
    "name": "ipython",
    "version": 3
   },
   "file_extension": ".py",
   "mimetype": "text/x-python",
   "name": "python",
   "nbconvert_exporter": "python",
   "pygments_lexer": "ipython3",
   "version": "3.8.5"
  }
 },
 "nbformat": 4,
 "nbformat_minor": 5
}
