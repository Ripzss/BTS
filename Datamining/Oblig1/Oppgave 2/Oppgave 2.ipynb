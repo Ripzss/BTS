{
 "cells": [
  {
   "cell_type": "markdown",
   "id": "7cbb1dca",
   "metadata": {},
   "source": [
    "# Obligatorisk innlevering 1 - oppgave 2"
   ]
  },
  {
   "cell_type": "markdown",
   "id": "b30fc730",
   "metadata": {},
   "source": [
    "I denne oppgaven skal vi forsøke å forutsi kjøp av bilforsikring ved kjøp av bil"
   ]
  },
  {
   "cell_type": "code",
   "execution_count": 2,
   "id": "61eb7565",
   "metadata": {},
   "outputs": [],
   "source": [
    "import pandas as pd\n",
    "from sklearn.model_selection import train_test_split"
   ]
  },
  {
   "cell_type": "code",
   "execution_count": 3,
   "id": "943a31be",
   "metadata": {},
   "outputs": [],
   "source": [
    "# I denne oppgaven skal dere bruke følgende datasett:\n",
    "df = pd.read_csv(\"./datasett2.csv\")"
   ]
  },
  {
   "cell_type": "code",
   "execution_count": 4,
   "id": "6d9f55bc",
   "metadata": {},
   "outputs": [
    {
     "data": {
      "text/html": [
       "<div>\n",
       "<style scoped>\n",
       "    .dataframe tbody tr th:only-of-type {\n",
       "        vertical-align: middle;\n",
       "    }\n",
       "\n",
       "    .dataframe tbody tr th {\n",
       "        vertical-align: top;\n",
       "    }\n",
       "\n",
       "    .dataframe thead th {\n",
       "        text-align: right;\n",
       "    }\n",
       "</style>\n",
       "<table border=\"1\" class=\"dataframe\">\n",
       "  <thead>\n",
       "    <tr style=\"text-align: right;\">\n",
       "      <th></th>\n",
       "      <th>id</th>\n",
       "      <th>Gender</th>\n",
       "      <th>Age</th>\n",
       "      <th>Driving_License</th>\n",
       "      <th>Region_Code</th>\n",
       "      <th>Previously_Insured</th>\n",
       "      <th>Vehicle_Age</th>\n",
       "      <th>Vehicle_Damage</th>\n",
       "      <th>Annual_Premium</th>\n",
       "      <th>Policy_Sales_Channel</th>\n",
       "      <th>Vintage</th>\n",
       "      <th>Response</th>\n",
       "    </tr>\n",
       "  </thead>\n",
       "  <tbody>\n",
       "    <tr>\n",
       "      <th>0</th>\n",
       "      <td>0</td>\n",
       "      <td>Male</td>\n",
       "      <td>21</td>\n",
       "      <td>1</td>\n",
       "      <td>35.0</td>\n",
       "      <td>0</td>\n",
       "      <td>1-2 Year</td>\n",
       "      <td>Yes</td>\n",
       "      <td>65101.0</td>\n",
       "      <td>124.0</td>\n",
       "      <td>187</td>\n",
       "      <td>0</td>\n",
       "    </tr>\n",
       "    <tr>\n",
       "      <th>1</th>\n",
       "      <td>1</td>\n",
       "      <td>Male</td>\n",
       "      <td>43</td>\n",
       "      <td>1</td>\n",
       "      <td>28.0</td>\n",
       "      <td>0</td>\n",
       "      <td>&gt; 2 Years</td>\n",
       "      <td>Yes</td>\n",
       "      <td>58911.0</td>\n",
       "      <td>26.0</td>\n",
       "      <td>288</td>\n",
       "      <td>1</td>\n",
       "    </tr>\n",
       "    <tr>\n",
       "      <th>2</th>\n",
       "      <td>2</td>\n",
       "      <td>Female</td>\n",
       "      <td>25</td>\n",
       "      <td>1</td>\n",
       "      <td>14.0</td>\n",
       "      <td>1</td>\n",
       "      <td>&lt; 1 Year</td>\n",
       "      <td>No</td>\n",
       "      <td>38043.0</td>\n",
       "      <td>152.0</td>\n",
       "      <td>254</td>\n",
       "      <td>0</td>\n",
       "    </tr>\n",
       "    <tr>\n",
       "      <th>3</th>\n",
       "      <td>3</td>\n",
       "      <td>Female</td>\n",
       "      <td>35</td>\n",
       "      <td>1</td>\n",
       "      <td>1.0</td>\n",
       "      <td>0</td>\n",
       "      <td>1-2 Year</td>\n",
       "      <td>Yes</td>\n",
       "      <td>2630.0</td>\n",
       "      <td>156.0</td>\n",
       "      <td>76</td>\n",
       "      <td>0</td>\n",
       "    </tr>\n",
       "    <tr>\n",
       "      <th>4</th>\n",
       "      <td>4</td>\n",
       "      <td>Female</td>\n",
       "      <td>36</td>\n",
       "      <td>1</td>\n",
       "      <td>15.0</td>\n",
       "      <td>1</td>\n",
       "      <td>1-2 Year</td>\n",
       "      <td>No</td>\n",
       "      <td>31951.0</td>\n",
       "      <td>152.0</td>\n",
       "      <td>294</td>\n",
       "      <td>0</td>\n",
       "    </tr>\n",
       "  </tbody>\n",
       "</table>\n",
       "</div>"
      ],
      "text/plain": [
       "   id  Gender  Age  Driving_License  Region_Code  Previously_Insured  \\\n",
       "0   0    Male   21                1         35.0                   0   \n",
       "1   1    Male   43                1         28.0                   0   \n",
       "2   2  Female   25                1         14.0                   1   \n",
       "3   3  Female   35                1          1.0                   0   \n",
       "4   4  Female   36                1         15.0                   1   \n",
       "\n",
       "  Vehicle_Age Vehicle_Damage  Annual_Premium  Policy_Sales_Channel  Vintage  \\\n",
       "0    1-2 Year            Yes         65101.0                 124.0      187   \n",
       "1   > 2 Years            Yes         58911.0                  26.0      288   \n",
       "2    < 1 Year             No         38043.0                 152.0      254   \n",
       "3    1-2 Year            Yes          2630.0                 156.0       76   \n",
       "4    1-2 Year             No         31951.0                 152.0      294   \n",
       "\n",
       "   Response  \n",
       "0         0  \n",
       "1         1  \n",
       "2         0  \n",
       "3         0  \n",
       "4         0  "
      ]
     },
     "execution_count": 4,
     "metadata": {},
     "output_type": "execute_result"
    }
   ],
   "source": [
    "df.head()"
   ]
  },
  {
   "cell_type": "code",
   "execution_count": 5,
   "id": "dbfa8834",
   "metadata": {},
   "outputs": [],
   "source": [
    "# Her deler jeg datasettet inn i egenskaper (X) og target (y) (fjerner også den første kolonnen siden det bare er en ID \n",
    "# og har dermed ingen prediktiv verdi)\n",
    "\n",
    "X = df.iloc[:,1:-1]\n",
    "y = df.iloc[:,-1]\n",
    "\n",
    "# Tilslutt deler jeg inn i et trening- og et testsett (75%/25%)\n",
    "\n",
    "X_train, X_test, y_train, y_test = train_test_split(X,y,test_size=0.25, random_state=0)\n",
    "\n",
    "# PS: Ikke endre denne kodecellen!"
   ]
  },
  {
   "cell_type": "markdown",
   "id": "955dc525",
   "metadata": {},
   "source": [
    "#### Oppgave 2.1) \n",
    "Visualiser $y\\_train$ og $y\\_val$ i et histogram. Kan du, basert på figuren, se hva slags problem vi skal løse (regresjon/klassifisering)? Begrunn svaret"
   ]
  },
  {
   "cell_type": "code",
   "execution_count": 7,
   "id": "813adead",
   "metadata": {},
   "outputs": [],
   "source": [
    "#TODO: visualiser y_train og y_test i et histogram"
   ]
  },
  {
   "cell_type": "markdown",
   "id": "3fc149fe",
   "metadata": {},
   "source": [
    "**Svar:**\n",
    "\n",
    "*< ditt tekstsvar her >*"
   ]
  },
  {
   "cell_type": "markdown",
   "id": "d13c58f1",
   "metadata": {},
   "source": [
    "#### Oppgave 2.2)\n",
    "Velg to modeller og gjør repeterte kryssvalideringer $(10)$ med $K=5$\n",
    "* Velg hvorvidt du vil bruke \"default\" hyperparamtre for modellene eller om du vil gjøre et hyperparametersøk\n",
    "* Skår ytelsen til modellene ved hjelp av F1-score og accuracy\n",
    "* Visualiser F1-skårene fra de repeterte kryssvalideringene som et boksplot\n",
    "* Undersøk om modell 1 er bedre eller dårligere enn modell 2 ved å gjøre en to-sidig T-test på F1-skårene fra de repeterte kryssvalideringene \n",
    "* Tolk resultatene skriftlig til slutt \n"
   ]
  },
  {
   "cell_type": "code",
   "execution_count": 8,
   "id": "9e755374",
   "metadata": {},
   "outputs": [],
   "source": [
    "#TODO: repeterte kryssvalideringer for to modeller"
   ]
  },
  {
   "cell_type": "markdown",
   "id": "a1d6641a",
   "metadata": {},
   "source": [
    "**Svar:**\n",
    "\n",
    "*< ditt tekstsvar her >*"
   ]
  },
  {
   "cell_type": "markdown",
   "id": "15d41084",
   "metadata": {},
   "source": [
    "#### Oppgave 2.3) \n",
    "Tren de samme modellene men denne gangen med et balansert datasett\n",
    "* Bruk imbalaced learn og SMOTE til å oppsample minioritetsklassen (bare oppsample treningsdataene i kryssvalideringen - ikke valideringsdataene)\n",
    "* Skår ytelsen til modellene ved hjelp av F1-score og accuracy\n",
    "* Visualiser F1-skårene fra de repeterte kryssvalideringene som et boksplot\n",
    "* Undersøk om modell 1 er bedre eller dårligere enn modell 2 ved å gjøre en to-sidig T-test på F1-skårene fra de repeterte kryssvalideringene \n",
    "* Tolk resultatene og sammenlign resultatene med 2.2) "
   ]
  },
  {
   "cell_type": "code",
   "execution_count": 9,
   "id": "a19c985d",
   "metadata": {},
   "outputs": [],
   "source": [
    "#TODO: repeterte kryssvalideringer for de samme to modellene som i oppgave 2.2, men denne gangen med SMOTE-oppsampling \n",
    "#from imblearn.over_sampling import SMOTE"
   ]
  },
  {
   "cell_type": "markdown",
   "id": "12b108d6",
   "metadata": {},
   "source": [
    "**Svar:**\n",
    "\n",
    "*< ditt tekstsvar her >*"
   ]
  },
  {
   "cell_type": "markdown",
   "id": "0aab8b1a",
   "metadata": {},
   "source": [
    "#### Oppgave 2.4)\n",
    "Tren den beste modellen på nytt og utfør prediksjon på testsettet. Mål nå ytelsen på testsettet ved bruk av sensitivitet, spesifisitet og presisjon, itillegg til F1-skår og accuracy"
   ]
  },
  {
   "cell_type": "code",
   "execution_count": 10,
   "id": "4acc52e3",
   "metadata": {},
   "outputs": [],
   "source": [
    "#TODO: Tren den beste modellen fra 2.2 og 2.3 på alle treningsdataene og test på testdataene"
   ]
  },
  {
   "cell_type": "markdown",
   "id": "ab8b5ce2",
   "metadata": {},
   "source": [
    "#### Oppgave 2.5)\n",
    "Del opp testsettet basert på kjønn og gjør en analyse av sensitivitet, spesifisitet og presisjon for menn og det samme for kvinner. Skriv ut og diskuter resultatet og forsøk å svar på følgende spørsmål:\n",
    "* Er modellen like god for begge kjønn? \n",
    "* Hvis ikke, hva tror du er årsaken og hvilke tiltak kan vi gjøre for å forbedre modellen? "
   ]
  },
  {
   "cell_type": "code",
   "execution_count": 11,
   "id": "d533c77d",
   "metadata": {},
   "outputs": [],
   "source": [
    "#TODO: Gjør kjønnsbasert analyse på testdataene"
   ]
  },
  {
   "cell_type": "markdown",
   "id": "5468d6a0",
   "metadata": {},
   "source": [
    "Kjør denne cellen til slutt og legg ved den genererte requirements.txt fila i besvarelsen"
   ]
  },
  {
   "cell_type": "code",
   "execution_count": 12,
   "id": "32b7a81f",
   "metadata": {},
   "outputs": [],
   "source": [
    "#!pip freeze > requirements.txt"
   ]
  }
 ],
 "metadata": {
  "kernelspec": {
   "display_name": "Python 3 (ipykernel)",
   "language": "python",
   "name": "python3"
  },
  "language_info": {
   "codemirror_mode": {
    "name": "ipython",
    "version": 3
   },
   "file_extension": ".py",
   "mimetype": "text/x-python",
   "name": "python",
   "nbconvert_exporter": "python",
   "pygments_lexer": "ipython3",
   "version": "3.8.5"
  }
 },
 "nbformat": 4,
 "nbformat_minor": 5
}
