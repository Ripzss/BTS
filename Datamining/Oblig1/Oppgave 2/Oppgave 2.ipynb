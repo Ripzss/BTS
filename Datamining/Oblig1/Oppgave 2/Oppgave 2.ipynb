{
 "cells": [
  {
   "cell_type": "markdown",
   "id": "7cbb1dca",
   "metadata": {},
   "source": [
    "# Obligatorisk innlevering 1 - oppgave 2"
   ]
  },
  {
   "cell_type": "markdown",
   "id": "b30fc730",
   "metadata": {},
   "source": [
    "I denne oppgaven skal vi forsøke å forutsi kjøp av bilforsikring ved kjøp av bil"
   ]
  },
  {
   "cell_type": "code",
   "id": "61eb7565",
   "metadata": {
    "ExecuteTime": {
     "end_time": "2025-10-05T03:28:55.812673Z",
     "start_time": "2025-10-05T03:28:55.809999Z"
    }
   },
   "source": [
    "import pandas as pd\n",
    "from imblearn.over_sampling import SMOTE\n",
    "from imblearn.pipeline import Pipeline\n",
    "from sklearn.preprocessing import StandardScaler, OneHotEncoder\n",
    "from sklearn.compose import ColumnTransformer\n",
    "from sklearn.model_selection import cross_val_score, RepeatedKFold,train_test_split\n",
    "from sklearn.ensemble import RandomForestClassifier\n",
    "from sklearn.linear_model import LogisticRegression\n",
    "from sklearn.metrics import make_scorer, f1_score\n",
    "import matplotlib.pyplot as plt\n",
    "from scipy.stats import ttest_rel"
   ],
   "outputs": [],
   "execution_count": 36
  },
  {
   "cell_type": "code",
   "id": "943a31be",
   "metadata": {
    "ExecuteTime": {
     "end_time": "2025-10-05T02:37:03.019182Z",
     "start_time": "2025-10-05T02:36:56.300948Z"
    }
   },
   "source": [
    "# I denne oppgaven skal dere bruke følgende datasett:\n",
    "df = pd.read_csv(\"./datasett2.csv\")"
   ],
   "outputs": [],
   "execution_count": 2
  },
  {
   "cell_type": "code",
   "id": "6d9f55bc",
   "metadata": {
    "ExecuteTime": {
     "end_time": "2025-10-05T02:37:04.828988Z",
     "start_time": "2025-10-05T02:37:04.816616Z"
    }
   },
   "source": [
    "df.head()"
   ],
   "outputs": [
    {
     "data": {
      "text/plain": [
       "   id  Gender  Age  Driving_License  Region_Code  Previously_Insured  \\\n",
       "0   0    Male   21                1         35.0                   0   \n",
       "1   1    Male   43                1         28.0                   0   \n",
       "2   2  Female   25                1         14.0                   1   \n",
       "3   3  Female   35                1          1.0                   0   \n",
       "4   4  Female   36                1         15.0                   1   \n",
       "\n",
       "  Vehicle_Age Vehicle_Damage  Annual_Premium  Policy_Sales_Channel  Vintage  \\\n",
       "0    1-2 Year            Yes         65101.0                 124.0      187   \n",
       "1   > 2 Years            Yes         58911.0                  26.0      288   \n",
       "2    < 1 Year             No         38043.0                 152.0      254   \n",
       "3    1-2 Year            Yes          2630.0                 156.0       76   \n",
       "4    1-2 Year             No         31951.0                 152.0      294   \n",
       "\n",
       "   Response  \n",
       "0         0  \n",
       "1         1  \n",
       "2         0  \n",
       "3         0  \n",
       "4         0  "
      ],
      "text/html": [
       "<div>\n",
       "<style scoped>\n",
       "    .dataframe tbody tr th:only-of-type {\n",
       "        vertical-align: middle;\n",
       "    }\n",
       "\n",
       "    .dataframe tbody tr th {\n",
       "        vertical-align: top;\n",
       "    }\n",
       "\n",
       "    .dataframe thead th {\n",
       "        text-align: right;\n",
       "    }\n",
       "</style>\n",
       "<table border=\"1\" class=\"dataframe\">\n",
       "  <thead>\n",
       "    <tr style=\"text-align: right;\">\n",
       "      <th></th>\n",
       "      <th>id</th>\n",
       "      <th>Gender</th>\n",
       "      <th>Age</th>\n",
       "      <th>Driving_License</th>\n",
       "      <th>Region_Code</th>\n",
       "      <th>Previously_Insured</th>\n",
       "      <th>Vehicle_Age</th>\n",
       "      <th>Vehicle_Damage</th>\n",
       "      <th>Annual_Premium</th>\n",
       "      <th>Policy_Sales_Channel</th>\n",
       "      <th>Vintage</th>\n",
       "      <th>Response</th>\n",
       "    </tr>\n",
       "  </thead>\n",
       "  <tbody>\n",
       "    <tr>\n",
       "      <th>0</th>\n",
       "      <td>0</td>\n",
       "      <td>Male</td>\n",
       "      <td>21</td>\n",
       "      <td>1</td>\n",
       "      <td>35.0</td>\n",
       "      <td>0</td>\n",
       "      <td>1-2 Year</td>\n",
       "      <td>Yes</td>\n",
       "      <td>65101.0</td>\n",
       "      <td>124.0</td>\n",
       "      <td>187</td>\n",
       "      <td>0</td>\n",
       "    </tr>\n",
       "    <tr>\n",
       "      <th>1</th>\n",
       "      <td>1</td>\n",
       "      <td>Male</td>\n",
       "      <td>43</td>\n",
       "      <td>1</td>\n",
       "      <td>28.0</td>\n",
       "      <td>0</td>\n",
       "      <td>&gt; 2 Years</td>\n",
       "      <td>Yes</td>\n",
       "      <td>58911.0</td>\n",
       "      <td>26.0</td>\n",
       "      <td>288</td>\n",
       "      <td>1</td>\n",
       "    </tr>\n",
       "    <tr>\n",
       "      <th>2</th>\n",
       "      <td>2</td>\n",
       "      <td>Female</td>\n",
       "      <td>25</td>\n",
       "      <td>1</td>\n",
       "      <td>14.0</td>\n",
       "      <td>1</td>\n",
       "      <td>&lt; 1 Year</td>\n",
       "      <td>No</td>\n",
       "      <td>38043.0</td>\n",
       "      <td>152.0</td>\n",
       "      <td>254</td>\n",
       "      <td>0</td>\n",
       "    </tr>\n",
       "    <tr>\n",
       "      <th>3</th>\n",
       "      <td>3</td>\n",
       "      <td>Female</td>\n",
       "      <td>35</td>\n",
       "      <td>1</td>\n",
       "      <td>1.0</td>\n",
       "      <td>0</td>\n",
       "      <td>1-2 Year</td>\n",
       "      <td>Yes</td>\n",
       "      <td>2630.0</td>\n",
       "      <td>156.0</td>\n",
       "      <td>76</td>\n",
       "      <td>0</td>\n",
       "    </tr>\n",
       "    <tr>\n",
       "      <th>4</th>\n",
       "      <td>4</td>\n",
       "      <td>Female</td>\n",
       "      <td>36</td>\n",
       "      <td>1</td>\n",
       "      <td>15.0</td>\n",
       "      <td>1</td>\n",
       "      <td>1-2 Year</td>\n",
       "      <td>No</td>\n",
       "      <td>31951.0</td>\n",
       "      <td>152.0</td>\n",
       "      <td>294</td>\n",
       "      <td>0</td>\n",
       "    </tr>\n",
       "  </tbody>\n",
       "</table>\n",
       "</div>"
      ]
     },
     "execution_count": 3,
     "metadata": {},
     "output_type": "execute_result"
    }
   ],
   "execution_count": 3
  },
  {
   "cell_type": "code",
   "id": "dbfa8834",
   "metadata": {
    "ExecuteTime": {
     "end_time": "2025-10-05T02:37:09.089203Z",
     "start_time": "2025-10-05T02:37:06.435188Z"
    }
   },
   "source": [
    "# Her deler jeg datasettet inn i egenskaper (X) og target (y) (fjerner også den første kolonnen siden det bare er en ID \n",
    "# og har dermed ingen prediktiv verdi)\n",
    "\n",
    "X = df.iloc[:,1:-1]\n",
    "y = df.iloc[:,-1]\n",
    "\n",
    "# Tilslutt deler jeg inn i et trening- og et testsett (75%/25%)\n",
    "\n",
    "X_train, X_test, y_train, y_test = train_test_split(X,y,test_size=0.25, random_state=0)\n",
    "\n",
    "# PS: Ikke endre denne kodecellen!"
   ],
   "outputs": [],
   "execution_count": 4
  },
  {
   "cell_type": "markdown",
   "id": "955dc525",
   "metadata": {},
   "source": [
    "#### Oppgave 2.1) \n",
    "Visualiser $y\\_train$ og $y\\_val$ i et histogram. Kan du, basert på figuren, se hva slags problem vi skal løse (regresjon/klassifisering)? Begrunn svaret"
   ]
  },
  {
   "cell_type": "code",
   "id": "813adead",
   "metadata": {
    "ExecuteTime": {
     "end_time": "2025-10-05T02:37:10.744518Z",
     "start_time": "2025-10-05T02:37:10.463499Z"
    }
   },
   "source": [
    "#TODO: visualiser y_train og y_test i et histogram\n",
    "#Lager Historgramet\n",
    "plt.figure(figsize=(8, 5))\n",
    "\n",
    "#Histogram for y_train\n",
    "plt.hist(y_train, bins=30, color='steelblue', alpha=0.7, label='y_train', edgecolor='black')\n",
    "\n",
    "#Histogram for y_test\n",
    "plt.hist(y_test, bins=30, color='coral', alpha=0.7, label='y_test', edgecolor='black')\n",
    "\n",
    "plt.xlabel('x', fontsize=12)\n",
    "plt.ylabel('y', fontsize=12)\n",
    "\n",
    "plt.title('y_train vs y_test', fontsize=14, fontweight='bold')\n",
    "\n",
    "plt.grid(axis='y', alpha=0.3)\n",
    "\n",
    "plt.legend()\n",
    "plt.show()"
   ],
   "outputs": [
    {
     "data": {
      "text/plain": [
       "<Figure size 800x500 with 1 Axes>"
      ],
      "image/png": "[encoded data removed]"
     },
     "metadata": {},
     "output_type": "display_data",
     "jetTransient": {
      "display_id": null
     }
    }
   ],
   "execution_count": 5
  },
  {
   "cell_type": "markdown",
   "id": "3fc149fe",
   "metadata": {},
   "source": [
    "**Svar:**\n",
    "\n",
    "*< Dette er et klassifiseringsproblem fordi vi har bare 2 verdier i x aksen som kan bare være 0 eller 1>*"
   ]
  },
  {
   "cell_type": "markdown",
   "id": "d13c58f1",
   "metadata": {},
   "source": [
    "#### Oppgave 2.2)\n",
    "Velg to modeller og gjør repeterte kryssvalideringer $(10)$ med $K=5$\n",
    "* Velg hvorvidt du vil bruke \"default\" hyperparamtre for modellene eller om du vil gjøre et hyperparametersøk\n",
    "* Skår ytelsen til modellene ved hjelp av F1-score og accuracy\n",
    "* Visualiser F1-skårene fra de repeterte kryssvalideringene som et boksplot\n",
    "* Undersøk om modell 1 er bedre eller dårligere enn modell 2 ved å gjøre en to-sidig T-test på F1-skårene fra de repeterte kryssvalideringene \n",
    "* Tolk resultatene skriftlig til slutt \n"
   ]
  },
  {
   "cell_type": "code",
   "id": "9e755374",
   "metadata": {
    "ExecuteTime": {
     "end_time": "2025-10-05T03:51:42.587470Z",
     "start_time": "2025-10-05T03:50:02.564244Z"
    }
   },
   "source": [
    "\n",
    "\n",
    "#Ai generet for å være ærlig jeg haade en versjon på github som kjørte uten all dette men så begynte jeg å få string to float errors når jeg prøvde det å kjøre det igjen senere\n",
    "categorical_cols = ['Vehicle_Age', 'Vehicle_Damage']\n",
    "numeric_cols = ['Age', 'Driving_License', 'Region_Code',\n",
    "                'Previously_Insured', 'Annual_Premium',\n",
    "                'Policy_Sales_Channel', 'Vintage']\n",
    "\n",
    "preprocessor = ColumnTransformer(\n",
    "    transformers=[\n",
    "        ('num', StandardScaler(), numeric_cols),\n",
    "        ('cat', OneHotEncoder(drop='first'), categorical_cols)\n",
    "    ]\n",
    ")\n",
    "X_processed = preprocessor.fit_transform(X)\n",
    "#end\n",
    "\n",
    "\n",
    "#Definer F1 scorer med Male som positiv klasse\n",
    "f1_scorer = make_scorer(f1_score, pos_label='Male')\n",
    "\n",
    "#Modeller\n",
    "model1 = RandomForestClassifier(random_state=42)\n",
    "model2 = LogisticRegression(random_state=42, max_iter=1000)\n",
    "\n",
    "#repitert kfold\n",
    "rkf = RepeatedKFold(n_splits=5, n_repeats=10, random_state=42)\n",
    "\n",
    "#setter en limit på hvor mye av dataen blir lest hele settet er for mye\n",
    "X_small = X_processed[:10000]\n",
    "y_small = y[:10000]\n",
    "\n",
    "#f1\n",
    "f1_model1 = cross_val_score(model1, X_small, y_small, cv=rkf, scoring=f1_scorer)\n",
    "f1_model2 = cross_val_score(model2, X_small, y_small, cv=rkf, scoring=f1_scorer)\n",
    "\n",
    "#accuracy\n",
    "acc_model1 = cross_val_score(model1, X_small, y_small, cv=rkf, scoring='accuracy')\n",
    "acc_model2 = cross_val_score(model2, X_small, y_small, cv=rkf, scoring='accuracy')\n",
    "\n",
    "#boxplot\n",
    "plt.figure(figsize=(8,6))\n",
    "plt.boxplot([f1_model1, f1_model2], tick_labels=['RandomForestClassifier', 'LogisticRegression'])\n",
    "plt.ylabel('F1-score')\n",
    "plt.title('F1-score')\n",
    "plt.show()\n",
    "\n",
    "#p_value er to stidig som stanader vi sjekker for forskjell i begge retninger\n",
    "t_stat, p_value = ttest_rel(f1_model1, f1_model2)\n",
    "\n",
    "print(\"\\nTo-sidig t-test mellom model1 og model2:\")\n",
    "print(f\"t-statistikk = {t_stat:.3f}, p-verdi = {p_value:.3f}\")\n",
    "\n",
    "#Printer Gjennomsnitt\n",
    "print(\"\\nGjennomsnitt og F1-score accuracy:\")\n",
    "print(f\"RandomForestClassifier: F1 = {f1_model1.mean():.3f}, Accuracy = {acc_model1.mean():.3f}\")\n",
    "print(f\"LogisticRegression: F1 = {f1_model2.mean():.3f}, Accuracy = {acc_model2.mean():.3f}\")"
   ],
   "outputs": [
    {
     "data": {
      "text/plain": [
       "<Figure size 800x600 with 1 Axes>"
      ],
      "image/png": "[encoded data removed]"
     },
     "metadata": {},
     "output_type": "display_data",
     "jetTransient": {
      "display_id": null
     }
    },
    {
     "name": "stdout",
     "output_type": "stream",
     "text": [
      "\n",
      "To-sidig t-test mellom model1 og model2:\n",
      "t-statistikk = -12.650, p-verdi = 0.000\n",
      "\n",
      "Gjennomsnitt og F1-score accuracy:\n",
      "RandomForestClassifier: F1 = 0.604, Accuracy = 0.556\n",
      "LogisticRegression: F1 = 0.626, Accuracy = 0.585\n"
     ]
    }
   ],
   "execution_count": 44
  },
  {
   "cell_type": "markdown",
   "id": "8b1f71cdd24a3788",
   "metadata": {},
   "source": [
    "**Svar:**\n",
    "\n",
    "*< Jeg valgte et default hyperparameter for modellene siden et hyperparametersøk ville ta lengre tid og blir ikke spurt i denne oppgaven siden du ønsker bare å sammenligne modellene og ikke optimere dem, Vi kan see etter å har kjørt koden på bare 10 000 rader Grunnen for dette er for å kjøre hele dete store datasette er urealistik (jeg prøve og etter en time med kjøring ga jeg opp) så jeg har satt en limit på 10 000 rader resultat burde være nærme nok, så er Randomforest F1 score 0.604 og Accuracy score på 0,556 mens Logistic Regression F1 score 0.626 og Accuracy score på 0,585, modellene gjør det bedre en tilfeldig gjetting (50/50). Logistic Regression gjør det bedre en RandomForestClassifier man kan see det på p-verdi også at den er 0 som innebærere at nullhypotesen er sann, kansje vis jeg kjørte hele datasettet og optimaliserte modellen så kunne resultatet være bedre>*"
   ]
  },
  {
   "cell_type": "markdown",
   "id": "15d41084",
   "metadata": {},
   "source": [
    "#### Oppgave 2.3) \n",
    "Tren de samme modellene men denne gangen med et balansert datasett\n",
    "* Bruk imbalaced learn og SMOTE til å oppsample minioritetsklassen (bare oppsample treningsdataene i kryssvalideringen - ikke valideringsdataene)\n",
    "* Skår ytelsen til modellene ved hjelp av F1-score og accuracy\n",
    "* Visualiser F1-skårene fra de repeterte kryssvalideringene som et boksplot\n",
    "* Undersøk om modell 1 er bedre eller dårligere enn modell 2 ved å gjøre en to-sidig T-test på F1-skårene fra de repeterte kryssvalideringene \n",
    "* Tolk resultatene og sammenlign resultatene med 2.2) "
   ]
  },
  {
   "cell_type": "code",
   "id": "a19c985d",
   "metadata": {
    "ExecuteTime": {
     "end_time": "2025-10-05T03:40:10.487691Z",
     "start_time": "2025-10-05T03:38:09.663368Z"
    }
   },
   "source": [
    "#TODO: repeterte kryssvalideringer for de samme to modellene som i oppgave 2.2, men denne gangen med SMOTE-oppsampling\n",
    "scaler = StandardScaler()\n",
    "X_scaled = scaler.fit_transform(X_small)\n",
    "\n",
    "#Definer F1 scorer med Male som positiv klasse\n",
    "f1_scorer = make_scorer(f1_score, pos_label='Male')\n",
    "\n",
    "#Modeller\n",
    "model1 = RandomForestClassifier(random_state=42)\n",
    "model2 = LogisticRegression(random_state=42, max_iter=1000)\n",
    "\n",
    "#repitert kfold\n",
    "rkf = RepeatedKFold(n_splits=5, n_repeats=10, random_state=42)\n",
    "\n",
    "#SMOTE\n",
    "pipeline1 = Pipeline([('smote', SMOTE(random_state=42)), ('rf', model1)])\n",
    "pipeline2 = Pipeline([('smote', SMOTE(random_state=42)), ('lr', model2)])\n",
    "\n",
    "#f1\n",
    "f1_model1 = cross_val_score(pipeline1, X_small, y_small, cv=rkf, scoring=f1_scorer)\n",
    "f1_model2 = cross_val_score(pipeline2, X_small, y_small, cv=rkf, scoring=f1_scorer)\n",
    "\n",
    "#accuracy\n",
    "acc_model1 = cross_val_score(pipeline1, X_small, y_small, cv=rkf, scoring='accuracy')\n",
    "acc_model2 = cross_val_score(pipeline2, X_small, y_small, cv=rkf, scoring='accuracy')\n",
    "\n",
    "#boxplot\n",
    "plt.figure(figsize=(8,6))\n",
    "plt.boxplot([f1_model1, f1_model2], tick_labels=['RandomForestClassifier', 'LogisticRegression'])\n",
    "plt.ylabel('F1-score')\n",
    "plt.title('F1-score med Balansert data')\n",
    "plt.show()\n",
    "\n",
    "#p_value er to stidig som stanader vi sjekker for forskjell i begge retninger\n",
    "t_stat, p_value = ttest_rel(f1_model1, f1_model2)\n",
    "\n",
    "print(\"\\nTo-sidig t-test mellom model1 og model2:\")\n",
    "print(f\"t-statistikk = {t_stat:.3f}, p-verdi = {p_value:.3f}\")\n",
    "\n",
    "#Printer Gjennomsnitt\n",
    "print(\"\\nGjennomsnitt for F1-score og accuracy:\")\n",
    "print(f\"RandomForestClassifier: F1 = {f1_model1.mean():.3f}, Accuracy = {acc_model1.mean():.3f}\")\n",
    "print(f\"Logistic Regression: F1 = {f1_model2.mean():.3f}, Accuracy = {acc_model2.mean():.3f}\")"
   ],
   "outputs": [
    {
     "data": {
      "text/plain": [
       "<Figure size 800x600 with 1 Axes>"
      ],
      "image/png": "[encoded data removed]"
     },
     "metadata": {},
     "output_type": "display_data",
     "jetTransient": {
      "display_id": null
     }
    },
    {
     "name": "stdout",
     "output_type": "stream",
     "text": [
      "\n",
      "To-sidig t-test mellom model1 og model2:\n",
      "t-statistikk = -27.726, p-verdi = 0.000\n",
      "\n",
      "Gjennomsnitt for F1-score og accuracy:\n",
      "Random Forest: F1 = 0.585, Accuracy = 0.551\n",
      "Logistic Regression: F1 = 0.621, Accuracy = 0.585\n"
     ]
    }
   ],
   "execution_count": 40
  },
  {
   "cell_type": "markdown",
   "id": "12b108d6",
   "metadata": {},
   "source": [
    "**Svar:**\n",
    "\n",
    "*< I Oppgave 2.2 så fikk vi verdiene Randomforest F1 score 0.604 og Accuracy score på 0,556 mens Logistic Regression F1 score 0.626 og Accuracy score på 0,585 mens her nå vi trener modellene med et balansert datasett så kan vi se at RandomForestClassifier går ned i verdi fra oppgave 2.2 mens Logisticregression går litt ned i F1 score men forholder den samme accuracy scoren som indikerer at modellen er bedre en RandomForestClassifier>*"
   ]
  },
  {
   "cell_type": "markdown",
   "id": "0aab8b1a",
   "metadata": {},
   "source": [
    "#### Oppgave 2.4)\n",
    "Tren den beste modellen på nytt og utfør prediksjon på testsettet. Mål nå ytelsen på testsettet ved bruk av sensitivitet, spesifisitet og presisjon, itillegg til F1-skår og accuracy"
   ]
  },
  {
   "cell_type": "code",
   "execution_count": 10,
   "id": "4acc52e3",
   "metadata": {},
   "outputs": [],
   "source": [
    "#TODO: Tren den beste modellen fra 2.2 og 2.3 på alle treningsdataene og test på testdataene"
   ]
  },
  {
   "cell_type": "markdown",
   "id": "ab8b5ce2",
   "metadata": {},
   "source": [
    "#### Oppgave 2.5)\n",
    "Del opp testsettet basert på kjønn og gjør en analyse av sensitivitet, spesifisitet og presisjon for menn og det samme for kvinner. Skriv ut og diskuter resultatet og forsøk å svar på følgende spørsmål:\n",
    "* Er modellen like god for begge kjønn? \n",
    "* Hvis ikke, hva tror du er årsaken og hvilke tiltak kan vi gjøre for å forbedre modellen? "
   ]
  },
  {
   "cell_type": "code",
   "execution_count": 11,
   "id": "d533c77d",
   "metadata": {},
   "outputs": [],
   "source": [
    "#TODO: Gjør kjønnsbasert analyse på testdataene"
   ]
  },
  {
   "cell_type": "markdown",
   "id": "5468d6a0",
   "metadata": {},
   "source": [
    "Kjør denne cellen til slutt og legg ved den genererte requirements.txt fila i besvarelsen"
   ]
  },
  {
   "cell_type": "code",
   "execution_count": 12,
   "id": "32b7a81f",
   "metadata": {},
   "outputs": [],
   "source": [
    "#!pip freeze > requirements.txt"
   ]
  }
 ],
 "metadata": {
  "kernelspec": {
   "display_name": "Python 3 (ipykernel)",
   "language": "python",
   "name": "python3"
  },
  "language_info": {
   "codemirror_mode": {
    "name": "ipython",
    "version": 3
   },
   "file_extension": ".py",
   "mimetype": "text/x-python",
   "name": "python",
   "nbconvert_exporter": "python",
   "pygments_lexer": "ipython3",
   "version": "3.13.7"
  }
 },
 "nbformat": 4,
 "nbformat_minor": 5
}
